{
  "cells": [
    {
      "cell_type": "markdown",
      "id": "3630c235-f891-4874-bd0a-5277d4d6aa82",
      "metadata": {
        "id": "3630c235-f891-4874-bd0a-5277d4d6aa82"
      },
      "source": [
        "# ChatGPT for Free using Google Colab\n"
      ]
    },
    {
      "cell_type": "markdown",
      "source": [
        "<a href=\"https://colab.research.google.com/github/aavella77/chatgpt_free/blob/main/chatGpt_for_free.ipynb\" target=\"_parent\"><img src=\"https://colab.research.google.com/assets/colab-badge.svg\" alt=\"Open In Colab\"/></a>\n",
        "\n",
        "\n",
        "\n"
      ],
      "metadata": {
        "id": "V3BTUSwIqDEx"
      },
      "id": "V3BTUSwIqDEx"
    },
    {
      "cell_type": "code",
      "execution_count": 1,
      "id": "39689e67",
      "metadata": {
        "height": 132,
        "colab": {
          "base_uri": "https://localhost:8080/"
        },
        "id": "39689e67",
        "outputId": "c1a91b48-fc01-442c-fd36-c1348ac7232b"
      },
      "outputs": [
        {
          "output_type": "stream",
          "name": "stdout",
          "text": [
            "Collecting openai\n",
            "  Downloading openai-1.40.3-py3-none-any.whl.metadata (22 kB)\n",
            "Requirement already satisfied: anyio<5,>=3.5.0 in /usr/local/lib/python3.10/dist-packages (from openai) (3.7.1)\n",
            "Requirement already satisfied: distro<2,>=1.7.0 in /usr/lib/python3/dist-packages (from openai) (1.7.0)\n",
            "Collecting httpx<1,>=0.23.0 (from openai)\n",
            "  Downloading httpx-0.27.0-py3-none-any.whl.metadata (7.2 kB)\n",
            "Collecting jiter<1,>=0.4.0 (from openai)\n",
            "  Downloading jiter-0.5.0-cp310-cp310-manylinux_2_17_x86_64.manylinux2014_x86_64.whl.metadata (3.6 kB)\n",
            "Requirement already satisfied: pydantic<3,>=1.9.0 in /usr/local/lib/python3.10/dist-packages (from openai) (2.8.2)\n",
            "Requirement already satisfied: sniffio in /usr/local/lib/python3.10/dist-packages (from openai) (1.3.1)\n",
            "Requirement already satisfied: tqdm>4 in /usr/local/lib/python3.10/dist-packages (from openai) (4.66.5)\n",
            "Requirement already satisfied: typing-extensions<5,>=4.11 in /usr/local/lib/python3.10/dist-packages (from openai) (4.12.2)\n",
            "Requirement already satisfied: idna>=2.8 in /usr/local/lib/python3.10/dist-packages (from anyio<5,>=3.5.0->openai) (3.7)\n",
            "Requirement already satisfied: exceptiongroup in /usr/local/lib/python3.10/dist-packages (from anyio<5,>=3.5.0->openai) (1.2.2)\n",
            "Requirement already satisfied: certifi in /usr/local/lib/python3.10/dist-packages (from httpx<1,>=0.23.0->openai) (2024.7.4)\n",
            "Collecting httpcore==1.* (from httpx<1,>=0.23.0->openai)\n",
            "  Downloading httpcore-1.0.5-py3-none-any.whl.metadata (20 kB)\n",
            "Collecting h11<0.15,>=0.13 (from httpcore==1.*->httpx<1,>=0.23.0->openai)\n",
            "  Downloading h11-0.14.0-py3-none-any.whl.metadata (8.2 kB)\n",
            "Requirement already satisfied: annotated-types>=0.4.0 in /usr/local/lib/python3.10/dist-packages (from pydantic<3,>=1.9.0->openai) (0.7.0)\n",
            "Requirement already satisfied: pydantic-core==2.20.1 in /usr/local/lib/python3.10/dist-packages (from pydantic<3,>=1.9.0->openai) (2.20.1)\n",
            "Downloading openai-1.40.3-py3-none-any.whl (360 kB)\n",
            "\u001b[2K   \u001b[90m━━━━━━━━━━━━━━━━━━━━━━━━━━━━━━━━━━━━━━━━\u001b[0m \u001b[32m360.7/360.7 kB\u001b[0m \u001b[31m2.7 MB/s\u001b[0m eta \u001b[36m0:00:00\u001b[0m\n",
            "\u001b[?25hDownloading httpx-0.27.0-py3-none-any.whl (75 kB)\n",
            "\u001b[2K   \u001b[90m━━━━━━━━━━━━━━━━━━━━━━━━━━━━━━━━━━━━━━━━\u001b[0m \u001b[32m75.6/75.6 kB\u001b[0m \u001b[31m3.5 MB/s\u001b[0m eta \u001b[36m0:00:00\u001b[0m\n",
            "\u001b[?25hDownloading httpcore-1.0.5-py3-none-any.whl (77 kB)\n",
            "\u001b[2K   \u001b[90m━━━━━━━━━━━━━━━━━━━━━━━━━━━━━━━━━━━━━━━━\u001b[0m \u001b[32m77.9/77.9 kB\u001b[0m \u001b[31m3.2 MB/s\u001b[0m eta \u001b[36m0:00:00\u001b[0m\n",
            "\u001b[?25hDownloading jiter-0.5.0-cp310-cp310-manylinux_2_17_x86_64.manylinux2014_x86_64.whl (318 kB)\n",
            "\u001b[2K   \u001b[90m━━━━━━━━━━━━━━━━━━━━━━━━━━━━━━━━━━━━━━━━\u001b[0m \u001b[32m318.9/318.9 kB\u001b[0m \u001b[31m7.6 MB/s\u001b[0m eta \u001b[36m0:00:00\u001b[0m\n",
            "\u001b[?25hDownloading h11-0.14.0-py3-none-any.whl (58 kB)\n",
            "\u001b[2K   \u001b[90m━━━━━━━━━━━━━━━━━━━━━━━━━━━━━━━━━━━━━━━━\u001b[0m \u001b[32m58.3/58.3 kB\u001b[0m \u001b[31m2.7 MB/s\u001b[0m eta \u001b[36m0:00:00\u001b[0m\n",
            "\u001b[?25hInstalling collected packages: jiter, h11, httpcore, httpx, openai\n",
            "Successfully installed h11-0.14.0 httpcore-1.0.5 httpx-0.27.0 jiter-0.5.0 openai-1.40.3\n"
          ]
        }
      ],
      "source": [
        "!pip install openai\n",
        "from openai import OpenAI\n",
        "from google.colab import userdata\n",
        "\n",
        "\n",
        "client = OpenAI(api_key=userdata.get('API_KEY'), base_url=\"https://api.pawan.krd/v1/\")\n",
        "\n",
        "def get_completion(prompt, model=\"pai-001\"):\n",
        "  completion = client.chat.completions.create(\n",
        "    model=model,\n",
        "    messages=[\n",
        "      {\"role\": \"user\", \"content\": prompt},\n",
        "    ],\n",
        "  )\n",
        "  return completion\n"
      ]
    },
    {
      "cell_type": "code",
      "execution_count": 2,
      "id": "e82f5577",
      "metadata": {
        "height": 164,
        "colab": {
          "base_uri": "https://localhost:8080/"
        },
        "id": "e82f5577",
        "outputId": "f68a24eb-00cb-4499-be19-d801af7a6c11"
      },
      "outputs": [
        {
          "output_type": "stream",
          "name": "stdout",
          "text": [
            "The capital of Venezuela is Caracas, which is also the country's largest city. As for the current president, as of my last update in early 2023, Nicolás Maduro Moros has been serving as President of Venezuela since 14 April 2013 after succeeding Hugo Chávez following his death. However, it's important to note that there have been significant political tensions and controversies surrounding Venezuelan leadership both before and after this timeframe. For the most up-to-date information on current governance or events in Venezuela, please refer to credible sources like news outlets or official government communications.\n"
          ]
        }
      ],
      "source": [
        "prompt = \"What is the capital of Venezuela? and who is the current president?\"\n",
        "\n",
        "completion = get_completion(prompt)\n",
        "print(completion.choices[0].message.content)"
      ]
    },
    {
      "cell_type": "code",
      "source": [
        "text = f\"\"\"\n",
        "Got this for my daughter for her birthday cuz she keeps taking \\\n",
        "mine from my room.  Yes, adults also like pandas too.  She takes \\\n",
        "it everywhere with her, and it's super soft and cute.  One of the \\\n",
        "ears is a bit lower than the other, and I don't think that was \\\n",
        "designed to be asymmetrical. It's a bit small for what I paid for it \\\n",
        "though. I think there might be other options that are bigger for \\\n",
        "the same price.  It arrived a day earlier than expected, so I got \\\n",
        "to play with it myself before I gave it to my daughter.\n",
        "\"\"\"\n",
        "prompt = f\"proofread and correct this review: ```{text}```\"\n",
        "completion = get_completion(prompt)\n",
        "print(completion.choices[0].message.content)"
      ],
      "metadata": {
        "id": "SLKmRUsUdqXG",
        "outputId": "7b69d69d-ffbb-40e1-c98f-7c56f7293fc7",
        "colab": {
          "base_uri": "https://localhost:8080/"
        }
      },
      "id": "SLKmRUsUdqXG",
      "execution_count": 15,
      "outputs": [
        {
          "output_type": "stream",
          "name": "stdout",
          "text": [
            " Here's a revised version of your review with corrections and enhancements for clarity and grammatical accuracy:\n",
            "\n",
            "---\n",
            "\n",
            "I purchased this plush toy as a birthday gift for my daughter because she has a habit of borrowing—and, let's be honest, hijacking—my own panda plush from my room. As it turns out, not all soft and lovable pandas are exclusively enjoyed by children; adults can have just as much affinity for them. My daughter absolutely adores this new addition to her collection; she takes it everywhere with her. However, I did notice that one ear sits significantly lower than its counterpart, which seems like an oversight since the design likely intended for both ears to be symmetrical. Additionally, despite its cuteness and quality feel, I find the size somewhat underwhelming relative to the price point. There may well be similar or larger-sized options available at the same cost that could provide better value in terms of scale versus investment. To add a personal touch before gifting it to her on her big day, I had the pleasure of playing with it myself since it arrived ahead of schedule by one day!\n",
            "\n",
            "--- \n",
            "This revision addresses verb tense consistency (from present to past), clarifies some sentences for better flow and readability, corrects potential typos (\"play\" instead of \"played\"), expands on points made about the product's design asymmetry and perceived value based on size vs cost., while also preserving your original message about your experience with the product delivery time.\n"
          ]
        }
      ]
    },
    {
      "cell_type": "code",
      "source": [
        "!pip install redlines\n",
        "from redlines import Redlines\n",
        "from IPython.display import display, Markdown, Latex, HTML, JSON\n",
        "\n",
        "\n",
        "diff = Redlines(text,completion.choices[0].message.content)\n",
        "display(HTML(diff.output_markdown))"
      ],
      "metadata": {
        "colab": {
          "base_uri": "https://localhost:8080/",
          "height": 295
        },
        "id": "BlfG2kdaeCri",
        "outputId": "ba9579e8-7f9a-4aed-df0f-b92b7c2613b7"
      },
      "id": "BlfG2kdaeCri",
      "execution_count": 17,
      "outputs": [
        {
          "output_type": "stream",
          "name": "stdout",
          "text": [
            "Requirement already satisfied: redlines in /usr/local/lib/python3.10/dist-packages (0.4.2)\n",
            "Requirement already satisfied: click<9.0.0,>=8.1.3 in /usr/local/lib/python3.10/dist-packages (from redlines) (8.1.7)\n",
            "Requirement already satisfied: rich<14.0.0,>=13.3.5 in /usr/local/lib/python3.10/dist-packages (from redlines) (13.7.1)\n",
            "Requirement already satisfied: rich-click<2.0.0,>=1.6.1 in /usr/local/lib/python3.10/dist-packages (from redlines) (1.8.3)\n",
            "Requirement already satisfied: markdown-it-py>=2.2.0 in /usr/local/lib/python3.10/dist-packages (from rich<14.0.0,>=13.3.5->redlines) (3.0.0)\n",
            "Requirement already satisfied: pygments<3.0.0,>=2.13.0 in /usr/local/lib/python3.10/dist-packages (from rich<14.0.0,>=13.3.5->redlines) (2.16.1)\n",
            "Requirement already satisfied: typing-extensions in /usr/local/lib/python3.10/dist-packages (from rich-click<2.0.0,>=1.6.1->redlines) (4.12.2)\n",
            "Requirement already satisfied: mdurl~=0.1 in /usr/local/lib/python3.10/dist-packages (from markdown-it-py>=2.2.0->rich<14.0.0,>=13.3.5->redlines) (0.1.2)\n"
          ]
        },
        {
          "output_type": "display_data",
          "data": {
            "text/plain": [
              "<IPython.core.display.HTML object>"
            ],
            "text/html": [
              "<span style='color:red;font-weight:700;text-decoration:line-through;'>Got </span><span style='color:green;font-weight:700;'>Here's a revised version of your review with corrections and enhancements for clarity and grammatical accuracy: </span>\n",
              "\n",
              "<span style='color:green;font-weight:700;'>--- </span>\n",
              "\n",
              "<span style='color:green;font-weight:700;'>I purchased </span>this <span style='color:green;font-weight:700;'>plush toy as a birthday gift </span>for my daughter <span style='color:red;font-weight:700;text-decoration:line-through;'>for her birthday cuz </span><span style='color:green;font-weight:700;'>because </span>she <span style='color:red;font-weight:700;text-decoration:line-through;'>keeps taking mine </span><span style='color:green;font-weight:700;'>has a habit of borrowing—and, let's be honest, hijacking—my own panda plush </span>from my <span style='color:red;font-weight:700;text-decoration:line-through;'>room.  Yes, </span><span style='color:green;font-weight:700;'>room. As it turns out, not all soft and lovable pandas are exclusively enjoyed by children; </span>adults <span style='color:red;font-weight:700;text-decoration:line-through;'>also like pandas too.  She </span><span style='color:green;font-weight:700;'>can have just as much affinity for them. My daughter absolutely adores this new addition to her collection; she </span>takes it everywhere with <span style='color:red;font-weight:700;text-decoration:line-through;'>her, and it's super soft and cute.  One of the ears is a bit </span><span style='color:green;font-weight:700;'>her. However, I did notice that one ear sits significantly </span>lower than <span style='color:red;font-weight:700;text-decoration:line-through;'>the other, and I don't think </span><span style='color:green;font-weight:700;'>its counterpart, which seems like an oversight since the design likely intended for both ears to be symmetrical. Additionally, despite its cuteness and quality feel, I find the size somewhat underwhelming relative to the price point. There may well be similar or larger-sized options available at the same cost </span>that <span style='color:red;font-weight:700;text-decoration:line-through;'>was designed to be asymmetrical. It's a bit small for what I paid for it though. I think there might be other options that are bigger for the same price.  It </span><span style='color:green;font-weight:700;'>could provide better value in terms of scale versus investment. To add a personal touch before gifting it to her on her big day, I had the pleasure of playing with it myself since it </span>arrived <span style='color:red;font-weight:700;text-decoration:line-through;'>a day earlier than expected, so I got to play with it myself before I gave it to my daughter.</span><span style='color:green;font-weight:700;'>ahead of schedule by one day! </span>\n",
              "\n",
              "<span style='color:green;font-weight:700;'>--- </span>\n",
              "\n",
              "<span style='color:green;font-weight:700;'>This revision addresses verb tense consistency (from present to past), clarifies some sentences for better flow and readability, corrects potential typos (\"play\" instead of \"played\"), expands on points made about the product's design asymmetry and perceived value based on size vs cost., while also preserving your original message about your experience with the product delivery time.</span>"
            ]
          },
          "metadata": {}
        }
      ]
    }
  ],
  "metadata": {
    "kernelspec": {
      "display_name": "Python 3 (ipykernel)",
      "language": "python",
      "name": "python3"
    },
    "language_info": {
      "codemirror_mode": {
        "name": "ipython",
        "version": 3
      },
      "file_extension": ".py",
      "mimetype": "text/x-python",
      "name": "python",
      "nbconvert_exporter": "python",
      "pygments_lexer": "ipython3",
      "version": "3.9.19"
    },
    "colab": {
      "provenance": []
    }
  },
  "nbformat": 4,
  "nbformat_minor": 5
}