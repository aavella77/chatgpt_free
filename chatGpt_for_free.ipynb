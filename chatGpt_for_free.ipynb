{
  "cells": [
    {
      "cell_type": "markdown",
      "id": "3630c235-f891-4874-bd0a-5277d4d6aa82",
      "metadata": {
        "id": "3630c235-f891-4874-bd0a-5277d4d6aa82"
      },
      "source": [
        "# ChatGPT for Free using Google Colab\n"
      ]
    },
    {
      "cell_type": "markdown",
      "source": [
        "<a href=\"https://colab.research.google.com/github/aavella77/chatgpt_free/blob/main/chatGpt_for_free.ipynb\" target=\"_parent\"><img src=\"https://colab.research.google.com/assets/colab-badge.svg\" alt=\"Open In Colab\"/></a>\n",
        "\n",
        "\n",
        "\n"
      ],
      "metadata": {
        "id": "V3BTUSwIqDEx"
      },
      "id": "V3BTUSwIqDEx"
    },
    {
      "cell_type": "code",
      "execution_count": null,
      "id": "39689e67",
      "metadata": {
        "height": 132,
        "id": "39689e67"
      },
      "outputs": [],
      "source": [
        "!pip install openai\n",
        "from openai import OpenAI\n",
        "from google.colab import userdata\n",
        "\n",
        "\n",
        "client = OpenAI(api_key=userdata.get('API_KEY'), base_url=\"https://api.pawan.krd/v1/\")\n",
        "\n",
        "def get_completion(prompt, model=\"pai-001\"):\n",
        "  completion = client.chat.completions.create(\n",
        "    model=model,\n",
        "    messages=[\n",
        "      {\"role\": \"user\", \"content\": prompt},\n",
        "    ],\n",
        "  )\n",
        "  return completion\n"
      ]
    },
    {
      "cell_type": "code",
      "execution_count": null,
      "id": "e82f5577",
      "metadata": {
        "height": 164,
        "id": "e82f5577"
      },
      "outputs": [],
      "source": [
        "prompt = \"What is the capital of Venezuela? and who is the current president?\"\n",
        "\n",
        "completion = get_completion(prompt)\n",
        "print(completion.choices[0].message.content)"
      ]
    },
    {
      "cell_type": "code",
      "source": [
        "text = f\"\"\"\n",
        "Got this for my daughter for her birthday cuz she keeps taking \\\n",
        "mine from my room.  Yes, adults also like pandas too.  She takes \\\n",
        "it everywhere with her, and it's super soft and cute.  One of the \\\n",
        "ears is a bit lower than the other, and I don't think that was \\\n",
        "designed to be asymmetrical. It's a bit small for what I paid for it \\\n",
        "though. I think there might be other options that are bigger for \\\n",
        "the same price.  It arrived a day earlier than expected, so I got \\\n",
        "to play with it myself before I gave it to my daughter.\n",
        "\"\"\"\n",
        "prompt = f\"proofread and correct this review: ```{text}```\"\n",
        "completion = get_completion(prompt)\n",
        "print(completion.choices[0].message.content)"
      ],
      "metadata": {
        "id": "SLKmRUsUdqXG"
      },
      "id": "SLKmRUsUdqXG",
      "execution_count": null,
      "outputs": []
    },
    {
      "cell_type": "code",
      "source": [
        "!pip install redlines\n",
        "from redlines import Redlines\n",
        "from IPython.display import display, Markdown, Latex, HTML, JSON\n",
        "\n",
        "\n",
        "diff = Redlines(text,completion.choices[0].message.content)\n",
        "display(HTML(diff.output_markdown))"
      ],
      "metadata": {
        "id": "BlfG2kdaeCri"
      },
      "id": "BlfG2kdaeCri",
      "execution_count": null,
      "outputs": []
    },
    {
      "cell_type": "code",
      "source": [
        "# Upload file\n",
        "with open(\"TIA_A_Avella_capitulo_1.txt\", \"r\") as f:\n",
        "  # Read the entire content of the file into a variable\n",
        "  text = f.read()\n",
        "\n",
        "prompt = f\"Corrige y revisa este texto en español, mejorando la formalidad del lenguaje y \\\n",
        "enfocándote en la gramática línea por línea: `text`\"\n",
        "completion = get_completion(prompt)\n",
        "\n",
        "# Check if completion content is valid before creating Redlines object\n",
        "if completion.choices[0].message.content:\n",
        "    diff = Redlines(text, completion.choices[0].message.content)\n",
        "    display(HTML(diff.output_markdown))\n",
        "else:\n",
        "    print(\"Error: No response received from the model.\")"
      ],
      "metadata": {
        "id": "tj9Bm0HLsC2_"
      },
      "id": "tj9Bm0HLsC2_",
      "execution_count": null,
      "outputs": []
    }
  ],
  "metadata": {
    "kernelspec": {
      "display_name": "Python 3 (ipykernel)",
      "language": "python",
      "name": "python3"
    },
    "language_info": {
      "codemirror_mode": {
        "name": "ipython",
        "version": 3
      },
      "file_extension": ".py",
      "mimetype": "text/x-python",
      "name": "python",
      "nbconvert_exporter": "python",
      "pygments_lexer": "ipython3",
      "version": "3.9.19"
    },
    "colab": {
      "provenance": []
    }
  },
  "nbformat": 4,
  "nbformat_minor": 5
}