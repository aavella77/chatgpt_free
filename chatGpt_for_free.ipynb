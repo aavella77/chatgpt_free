{
  "cells": [
    {
      "cell_type": "markdown",
      "id": "3630c235-f891-4874-bd0a-5277d4d6aa82",
      "metadata": {
        "id": "3630c235-f891-4874-bd0a-5277d4d6aa82"
      },
      "source": [
        "# ChatGPT for Free using Google Colab\n"
      ]
    },
    {
      "cell_type": "markdown",
      "source": [
        "<a href=\\\"https://colab.research.google.com/github/aavella77/chatgpt_free/blob/main/chatGpt-for-free.ipynb\\\" target=\\\"_parent\\\"><img src=\\\"https://colab.research.google.com/assets/colab-badge.svg\\\" alt=\\\"Open In Colab\\\"/></a>\""
      ],
      "metadata": {
        "id": "V3BTUSwIqDEx"
      },
      "id": "V3BTUSwIqDEx"
    },
    {
      "cell_type": "code",
      "execution_count": 18,
      "id": "39689e67",
      "metadata": {
        "height": 132,
        "colab": {
          "base_uri": "https://localhost:8080/"
        },
        "id": "39689e67",
        "outputId": "74dfa931-80ef-497a-e69e-5fe54bdf7d67"
      },
      "outputs": [
        {
          "output_type": "stream",
          "name": "stdout",
          "text": [
            "Requirement already satisfied: openai in /usr/local/lib/python3.10/dist-packages (1.40.3)\n",
            "Requirement already satisfied: anyio<5,>=3.5.0 in /usr/local/lib/python3.10/dist-packages (from openai) (3.7.1)\n",
            "Requirement already satisfied: distro<2,>=1.7.0 in /usr/lib/python3/dist-packages (from openai) (1.7.0)\n",
            "Requirement already satisfied: httpx<1,>=0.23.0 in /usr/local/lib/python3.10/dist-packages (from openai) (0.27.0)\n",
            "Requirement already satisfied: jiter<1,>=0.4.0 in /usr/local/lib/python3.10/dist-packages (from openai) (0.5.0)\n",
            "Requirement already satisfied: pydantic<3,>=1.9.0 in /usr/local/lib/python3.10/dist-packages (from openai) (2.8.2)\n",
            "Requirement already satisfied: sniffio in /usr/local/lib/python3.10/dist-packages (from openai) (1.3.1)\n",
            "Requirement already satisfied: tqdm>4 in /usr/local/lib/python3.10/dist-packages (from openai) (4.66.5)\n",
            "Requirement already satisfied: typing-extensions<5,>=4.11 in /usr/local/lib/python3.10/dist-packages (from openai) (4.12.2)\n",
            "Requirement already satisfied: idna>=2.8 in /usr/local/lib/python3.10/dist-packages (from anyio<5,>=3.5.0->openai) (3.7)\n",
            "Requirement already satisfied: exceptiongroup in /usr/local/lib/python3.10/dist-packages (from anyio<5,>=3.5.0->openai) (1.2.2)\n",
            "Requirement already satisfied: certifi in /usr/local/lib/python3.10/dist-packages (from httpx<1,>=0.23.0->openai) (2024.7.4)\n",
            "Requirement already satisfied: httpcore==1.* in /usr/local/lib/python3.10/dist-packages (from httpx<1,>=0.23.0->openai) (1.0.5)\n",
            "Requirement already satisfied: h11<0.15,>=0.13 in /usr/local/lib/python3.10/dist-packages (from httpcore==1.*->httpx<1,>=0.23.0->openai) (0.14.0)\n",
            "Requirement already satisfied: annotated-types>=0.4.0 in /usr/local/lib/python3.10/dist-packages (from pydantic<3,>=1.9.0->openai) (0.7.0)\n",
            "Requirement already satisfied: pydantic-core==2.20.1 in /usr/local/lib/python3.10/dist-packages (from pydantic<3,>=1.9.0->openai) (2.20.1)\n"
          ]
        }
      ],
      "source": [
        "!pip install openai\n",
        "from openai import OpenAI\n",
        "from google.colab import userdata\n",
        "\n",
        "# 1. Join Discord.com\n",
        "# 2. Join the Discord channel Pawan.Krd: https://discord.com/channels/1055397662976905229/1118325282932264970\n",
        "# 3. Get your Own FREE API Key for the Models\n",
        "#     1. Go to ⁠🤖𝐁𝐨𝐭 https://discord.com/channels/1055397662976905229/1064807234825113621\n",
        "#     2. Then do the /key command.\n",
        "#     3. It will give you your own key, make sure to not share it with anyone.\n",
        "#     4. Click on the Key icon in Google Colab right side.\n",
        "#     5. Click on \"+ Add new secret\".\n",
        "#     6. Add name \"API_KEY\"\n",
        "#     7. Add value \"key obtained in step 3\"\n",
        "\n",
        "client = OpenAI(api_key=userdata.get('API_KEY'), base_url=\"https://api.pawan.krd/v1/\")\n",
        "\n",
        "def get_completion(prompt, model=\"pai-001\"):\n",
        "  completion = client.chat.completions.create(\n",
        "    model=model,\n",
        "    messages=[\n",
        "      {\"role\": \"user\", \"content\": prompt},\n",
        "    ],\n",
        "  )\n",
        "  return completion\n"
      ]
    },
    {
      "cell_type": "code",
      "execution_count": 20,
      "id": "e82f5577",
      "metadata": {
        "height": 164,
        "colab": {
          "base_uri": "https://localhost:8080/"
        },
        "id": "e82f5577",
        "outputId": "ab5c0d9b-4772-4973-8d9c-0f4e9ca2e0dd"
      },
      "outputs": [
        {
          "output_type": "stream",
          "name": "stdout",
          "text": [
            "The capital of Venezuela is Caracas. As for the current president, as of my last update in early 2023, Nicholas Maduro has been serving as President since 14 April 2013, following the death of Hugo Chávez. However, it's important to note that there have been political tensions and disputes regarding leadership since then, with Juan Guaidó also being recognized by some countries as the interim president due to claims that Maduro's re-election was not legitimate. For the most up-to-date information on Venezuelan politics or its leader at this moment, please refer to reliable news sources or official announcements.\n"
          ]
        }
      ],
      "source": [
        "prompt = \"What is the capital of Venezuela? and who is the current president?\"\n",
        "\n",
        "completion = get_completion(prompt)\n",
        "print(completion.choices[0].message.content)"
      ]
    }
  ],
  "metadata": {
    "kernelspec": {
      "display_name": "Python 3 (ipykernel)",
      "language": "python",
      "name": "python3"
    },
    "language_info": {
      "codemirror_mode": {
        "name": "ipython",
        "version": 3
      },
      "file_extension": ".py",
      "mimetype": "text/x-python",
      "name": "python",
      "nbconvert_exporter": "python",
      "pygments_lexer": "ipython3",
      "version": "3.9.19"
    },
    "colab": {
      "provenance": []
    }
  },
  "nbformat": 4,
  "nbformat_minor": 5
}